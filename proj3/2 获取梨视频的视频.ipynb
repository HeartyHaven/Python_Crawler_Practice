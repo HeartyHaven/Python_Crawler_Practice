{
 "cells": [
  {
   "attachments": {},
   "cell_type": "markdown",
   "metadata": {},
   "source": [
    "# 抓取梨视频数据\n",
    "梨视频的获取不能简单地依赖抓包工具，因为初次获取的视频链接是无法打开的。因此肯定还需要对链接做一定的修改。\n",
    "1. 拿到contId\n",
    "2. 拿到videoStatus返回的json->SrcURL\n",
    "3. 对SrURL里面的内容进行调整\n",
    "4. 下载视频"
   ]
  },
  {
   "cell_type": "code",
   "execution_count": 3,
   "metadata": {},
   "outputs": [],
   "source": [
    "import requests\n"
   ]
  },
  {
   "cell_type": "code",
   "execution_count": 2,
   "metadata": {},
   "outputs": [],
   "source": [
    "#拿到cont-Id\n",
    "url=\"https://www.pearvideo.com/video_1734996\"\n",
    "contid=url.split(\"_\")[1]    #基本的python操作"
   ]
  },
  {
   "cell_type": "code",
   "execution_count": 4,
   "metadata": {},
   "outputs": [
    {
     "name": "stdout",
     "output_type": "stream",
     "text": [
      "\n",
      "{\n",
      "\t\"resultCode\":\"5\",\n",
      "\t\"resultMsg\":\"该文章已经下线！\",\n",
      "\t\"systemTime\": \"1688182183557\"\n",
      "}\n",
      "\n"
     ]
    }
   ],
   "source": [
    "#接下来就需要改装这videoStatus\n",
    "videoStatusURL=f\"https://www.pearvideo.com/videoStatus.jsp?contId={contid}&mrd=0.12214038084559808\" #句首加f就能嵌入变量\n",
    "resp=requests.get(videoStatusURL)\n",
    "print(resp.text)"
   ]
  },
  {
   "attachments": {},
   "cell_type": "markdown",
   "metadata": {},
   "source": [
    "这里说文章已经下线但是实际并非如此，看来是反爬手段。下面需要尝试反反爬。"
   ]
  },
  {
   "cell_type": "code",
   "execution_count": 6,
   "metadata": {},
   "outputs": [
    {
     "name": "stdout",
     "output_type": "stream",
     "text": [
      "\n",
      "{\n",
      "\t\"resultCode\":\"5\",\n",
      "\t\"resultMsg\":\"该文章已经下线！\",\n",
      "\t\"systemTime\": \"1688182319172\"\n",
      "}\n",
      "\n"
     ]
    }
   ],
   "source": [
    "headers={\n",
    "    \"User-Agent\": \"Mozilla/5.0 (Windows NT 10.0; WOW64) AppleWebKit/537.36 (KHTML, like Gecko) Chrome/78.0.3904.108 Safari/537.36\"\n",
    "}\n",
    "resp=requests.get(videoStatusURL,headers=headers)\n",
    "print(resp.text)"
   ]
  },
  {
   "attachments": {},
   "cell_type": "markdown",
   "metadata": {},
   "source": [
    "为什么还是不行呢？这就要提出我们的主要问题所在：防盗链。网站会对某些内容的请求回溯，如果说其上一级的请求不是来自其父网址，那么就说明出现了非法访问的情况，这是不合理的，所以就会有防御机制。在我们直接请求获取jsp这个文件的时候，jsp的直接来源是我们的电脑，这显然是不合常理的，因此不会返回有效的请求。所以还是需要进一步伪造一个请求头。这个回溯的防盗链就是请求头中的referer."
   ]
  },
  {
   "cell_type": "code",
   "execution_count": 7,
   "metadata": {},
   "outputs": [
    {
     "name": "stdout",
     "output_type": "stream",
     "text": [
      "\n",
      "{\n",
      "\t\"resultCode\":\"1\",\n",
      "\t\"resultMsg\":\"success\", \"reqId\":\"af997892-92d6-43c9-a42d-93d84521b054\",\n",
      "\t\"systemTime\": \"1688182759933\",\n",
      "\t\"videoInfo\":{\"playSta\":\"1\",\"video_image\":\"https://image2.pearvideo.com/cont/20210713/cont-1734996-12602387.png\",\"videos\":{\"hdUrl\":\"\",\"hdflvUrl\":\"\",\"sdUrl\":\"\",\"sdflvUrl\":\"\",\"srcUrl\":\"https://video.pearvideo.com/mp4/adshort/20210713/1688182759933-15718009_adpkg-ad_hd.mp4\"}}\n",
      "}\n",
      "\n"
     ]
    }
   ],
   "source": [
    "headers={\n",
    "    \"User-Agent\": \"Mozilla/5.0 (Windows NT 10.0; WOW64) AppleWebKit/537.36 (KHTML, like Gecko) Chrome/78.0.3904.108 Safari/537.36\",\n",
    "    \"Referer\": url #https://www.pearvideo.com/video_1734996就是我们刚才找到的url。\n",
    "}\n",
    "resp=requests.get(videoStatusURL,headers=headers)\n",
    "print(resp.text)"
   ]
  },
  {
   "cell_type": "code",
   "execution_count": 19,
   "metadata": {},
   "outputs": [
    {
     "name": "stdout",
     "output_type": "stream",
     "text": [
      "1688182759933\n",
      "https://video.pearvideo.com/mp4/adshort/20210713/1688182759933-15718009_adpkg-ad_hd.mp4\n"
     ]
    }
   ],
   "source": [
    "#获取需要的信息\n",
    "dic=resp.json()\n",
    "systemtime=dic['systemTime']\n",
    "srcurl=dic['videoInfo']['videos']['srcUrl']\n",
    "print(systemtime)\n",
    "print(srcurl)"
   ]
  },
  {
   "cell_type": "code",
   "execution_count": 20,
   "metadata": {},
   "outputs": [
    {
     "name": "stdout",
     "output_type": "stream",
     "text": [
      "https://video.pearvideo.com/mp4/adshort/20210713/cont-1734996-15718009_adpkg-ad_hd.mp4\n"
     ]
    }
   ],
   "source": [
    "#接下来对srcurl做一个替换\n",
    "srcurl=srcurl.replace(systemtime,f\"cont-{contid}\")    #就是把srcurl中匹配systemtime的部分修改为contid-{contid}\n",
    "print(srcurl)"
   ]
  },
  {
   "attachments": {},
   "cell_type": "markdown",
   "metadata": {},
   "source": [
    "这样就能够成功获取到视频了。下面只需要下载视频。"
   ]
  },
  {
   "cell_type": "code",
   "execution_count": 21,
   "metadata": {},
   "outputs": [],
   "source": [
    "with open(\"2_tst.mp4\",mode='wb') as f:\n",
    "    f.write(requests.get(srcurl).content)\n",
    "    f.close"
   ]
  },
  {
   "attachments": {},
   "cell_type": "markdown",
   "metadata": {},
   "source": [
    "看文件：`2_tst.mp4`，我们成功地获取到了一个视频！"
   ]
  }
 ],
 "metadata": {
  "kernelspec": {
   "display_name": "myenv",
   "language": "python",
   "name": "python3"
  },
  "language_info": {
   "codemirror_mode": {
    "name": "ipython",
    "version": 3
   },
   "file_extension": ".py",
   "mimetype": "text/x-python",
   "name": "python",
   "nbconvert_exporter": "python",
   "pygments_lexer": "ipython3",
   "version": "3.9.16"
  },
  "orig_nbformat": 4
 },
 "nbformat": 4,
 "nbformat_minor": 2
}
