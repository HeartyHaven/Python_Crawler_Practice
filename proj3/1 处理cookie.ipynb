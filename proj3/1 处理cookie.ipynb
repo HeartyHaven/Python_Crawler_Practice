{
 "cells": [
  {
   "attachments": {},
   "cell_type": "markdown",
   "metadata": {},
   "source": [
    "# python爬虫进阶操作：处理cookies\n",
    "获取登录之后的个人数据：\n",
    "\n",
    "1. 登录->得到cookie(cookie是一串码，代表你通过了登录验证，此后再访问就能够省略登录的步骤)\n",
    "2. 带着cookie去请求到购物车的url->购物车的内容\n",
    "\n",
    "实际操作中，必须要把上面的两个操作连起来。我们可以使用session进行请求->用如其名，session可以理解为一连串的请求，在这一连串的请求中cookie不会丢失。"
   ]
  },
  {
   "cell_type": "code",
   "execution_count": 8,
   "metadata": {},
   "outputs": [],
   "source": [
    "import requests\n",
    "session=requests.session()\n",
    "#session被翻译为“会话”，是一个有记忆的持续交互。如A->B,B->A,A->B（但是此时A有上次的记忆）。\n",
    "#cookies就作为一个记忆。\n",
    "#session和requests是一样的。"
   ]
  },
  {
   "attachments": {},
   "cell_type": "markdown",
   "metadata": {},
   "source": [
    "第一步：登录"
   ]
  },
  {
   "cell_type": "code",
   "execution_count": 14,
   "metadata": {},
   "outputs": [
    {
     "name": "stdout",
     "output_type": "stream",
     "text": [
      "<RequestsCookieJar[<Cookie accessToken=avatarUrl%3Dhttps%253A%252F%252Fcdn.static.17k.com%252Fuser%252Favatar%252F10%252F30%252F91%252F100389130.jpg-88x88%253Fv%253D1688117688000%26id%3D100389130%26nickname%3Dlangintro%26e%3D1703680397%26s%3D78d8ee4bf838c4ae for .17k.com/>, <Cookie c_channel=0 for .17k.com/>, <Cookie c_csc=web for .17k.com/>]>\n"
     ]
    }
   ],
   "source": [
    "url=\"https://passport.17k.com/ck/user/login\"\n",
    "data={\n",
    "    'loginName':\"Your_User_Name\",\n",
    "    'password':\"Your_Password\"\n",
    "}\n",
    "resp=session.post(url,data=data)\n",
    "# print(resp.text)\n",
    "print(resp.cookies)\n",
    "#其实很方便地得到了cookies。"
   ]
  },
  {
   "cell_type": "code",
   "execution_count": 16,
   "metadata": {},
   "outputs": [
    {
     "name": "stdout",
     "output_type": "stream",
     "text": [
      "{'status': {'code': 0, 'msg': 'succ'}, 'data': [{'bookId': 3377676, 'bookName': '我的透视超给力', 'coverImg': 'https://cdn.static.17k.com/book/189x272/76/76/3377676.jpg-189x272?v=1661851591000', 'authorId': 85215151, 'authorPenName': '番茄炖肉', 'introduction': '我是老中医，专治各种吹牛逼！\\n我武道超神，吊打一切不服气！\\n秦飞偶得神秘传承，拥有神眼，从此医术通天，武道超神，且看他逆天崛起，笑傲人生。', 'bookClass': {'id': 2, 'name': '男生'}, 'bookChannel': {'id': 3, 'name': '都市小说'}, 'bookCategory': {'id': 87, 'name': '都市异能'}, 'authLevel': {'id': 4, 'name': 'VIP作品'}, 'progress': 0, 'lastUpdateChapter': {'id': 48022249, 'name': '第一千零七十三章  柳家的大代价', 'createTime': 1688057440000, 'updateTime': 1688087714000, 'isVIP': {'id': 1, 'name': '是'}, 'publishTime': 1688079900000}, 'status': {'id': 4, 'name': '正常'}, 'bookStatus': {'id': 1, 'name': '连载'}, 'isVIP': {'id': 1, 'name': '是'}, 'bookmarkChapterId': 0, 'bookmarkChapterName': '', 'bookmarkChapterVipFlag': 0, 'topFlag': 0, 'createTimeValue': 1688117688000, 'updateTimeValue': 1688117694000, 'topTimeValue': 0, 'bookupdateTimeValue': 1688087714000, 'recCode': 'null1688128588708594', 'type': 5}, {'bookId': 3430856, 'bookName': '分手后我成了前任的娇软白月光', 'coverImg': 'https://cdn.static.17k.com/book/189x272/56/08/3430856.jpg-189x272?v=1650790915000', 'authorId': 96144514, 'authorPenName': '欧阳元泉', 'introduction': '13年痴情错付，云雪尧一朝醒悟，痛快分手退婚，“渣男如狗，且抛且走！”\\n重拾事业，她在职场中飒爽杀伐，惊艳众人。\\n曾经弃她如敝履的男人，却疯了似的缠她上瘾，“尧尧，嫁给我好不好？”\\n云雪尧潋滟轻笑：“霄爷如今，怎么活成了自己最讨厌的样子？”\\n——\\n用了整整七年去恨她，等到她决然转身，江凌霄才发现：所有的恨意都抵不过失去她的恐惧。\\n“尧尧，我只求复合，不会逼你结婚。”\\n“尧尧，我只求结婚，不会逼你生宝宝。”\\n“尧尧，我们只生一个，不会让你多生……”\\n云雪尧揣着第三胎，忍无可忍，“江凌霄，你这个卑鄙小人！”\\n江凌霄：“尧尧，小人在你肚子里，我是你亲爱的。”', 'bookClass': {'id': 3, 'name': '女生'}, 'bookChannel': {'id': 17, 'name': '现代言情'}, 'bookCategory': {'id': 134, 'name': '总裁豪门'}, 'authLevel': {'id': 4, 'name': 'VIP作品'}, 'progress': 0, 'lastUpdateChapter': {'id': 47487215, 'name': '第322章 他的尧尧，回来了', 'createTime': 1671630636000, 'updateTime': 1671631275000, 'isVIP': {'id': 1, 'name': '是'}, 'publishTime': 1671630636000}, 'status': {'id': 4, 'name': '正常'}, 'bookStatus': {'id': 3, 'name': '完本'}, 'isVIP': {'id': 1, 'name': '是'}, 'bookmarkChapterId': 0, 'bookmarkChapterName': '', 'bookmarkChapterVipFlag': 0, 'topFlag': 0, 'createTimeValue': 1688117688000, 'updateTimeValue': 1688117692000, 'topTimeValue': 0, 'bookupdateTimeValue': 1672368782000, 'recCode': 'null1688128588708594', 'type': 5}, {'bookId': 3411557, 'bookName': '农门长姐：我娇养了五个大佬弟弟', 'coverImg': 'https://cdn.static.17k.com/book/189x272/57/15/3411557.jpg-189x272?v=1646704817000', 'authorId': 60959010, 'authorPenName': '香奈儿不香', 'introduction': '亲自带着百亿物资前往灾区赈灾的女霸总唐琪穿越开局就死娘，老爹征丁失踪，爷奶叔婶齐上阵要卖掉襁褓里的弟弟换粮食。\\n\\u3000\\u3000唐琪扬起扫帚，怒打极品血亲，化解危难后，看着三个小萝卜头弟弟，还有一个襁褓中的奶娃娃，她撸起袖子表示不要慌，有姐在就饿不死！\\n\\u3000\\u3000天无绝人之路，她的百亿物资竟然化作空间跟随她而来，唐琪凭着机智的头脑和天赋灵活使用百亿物资闷声发大财，斗渣渣、虐极品、送弟弟习文练武学医术，将他们养育成才。\\n\\u3000\\u3000后来--\\n\\u3000\\u3000少年将军：谁敢欺负我长姐，提头来见。\\n\\u3000\\u3000权臣首辅：谁敢辱骂我长姐，牢狱相会。\\n\\u3000\\u3000北周首富：谁敢骗财我长姐，赔个底掉。\\n\\u3000\\u3000鬼医传人：谁敢伤害我长姐，生不如死。\\n\\u3000\\u3000江湖少谷主：额我也来……谁敢欺负我义姐，虽远必毒。\\n\\u3000\\u3000京城众人皆惊：这唐家长女竟这般厉害，可婚配否？\\n\\u3000\\u3000镇国公爷：不瞒各位，娇妻已孕满三月，来年登门喝满月酒啊！', 'bookClass': {'id': 3, 'name': '女生'}, 'bookChannel': {'id': 5, 'name': '古代言情'}, 'bookCategory': {'id': 140, 'name': '女尊女强'}, 'authLevel': {'id': 4, 'name': 'VIP作品'}, 'progress': 0, 'lastUpdateChapter': {'id': 47268994, 'name': '第752章 我终于等到这一天了', 'createTime': 1667214009000, 'updateTime': 1667216184000, 'isVIP': {'id': 1, 'name': '是'}, 'publishTime': 1667214009000}, 'status': {'id': 4, 'name': '正常'}, 'bookStatus': {'id': 3, 'name': '完本'}, 'isVIP': {'id': 1, 'name': '是'}, 'bookmarkChapterId': 0, 'bookmarkChapterName': '', 'bookmarkChapterVipFlag': 0, 'topFlag': 0, 'createTimeValue': 1688117688000, 'updateTimeValue': 1688117691000, 'topTimeValue': 0, 'bookupdateTimeValue': 1671710108000, 'recCode': 'null1688128588708594', 'type': 5}, {'bookId': 3479673, 'bookName': '长生仙游', 'coverImg': 'https://cdn.static.17k.com/book/189x272/73/96/3479673.jpg-189x272?v=1662618309000', 'authorId': 65617443, 'authorPenName': '四更不睡', 'introduction': '一场意外将陈长生带到了一方仙侠世界，而他自身却被诅咒环绕，朝生暮死。\\n至此之后，他每三年只活过来一天，继而继续沉睡，轮回不休。\\n但却也因此被各路神仙误以为他是得道高人。\\n机缘巧遇之下，他走上了修行之道，苦寻破解蜉蝣诅咒的方法。\\n\\n每次醒来，却又恍若隔世。\\n秋风吹起，故人凋零。\\n\\n\\n', 'bookClass': {'id': 2, 'name': '男生'}, 'bookChannel': {'id': 24, 'name': '仙侠武侠'}, 'bookCategory': {'id': 9, 'name': '古典仙侠'}, 'authLevel': {'id': 4, 'name': 'VIP作品'}, 'progress': 0, 'lastUpdateChapter': {'id': 48021518, 'name': '第六百五十三章：抓魔修', 'createTime': 1688047483000, 'updateTime': 1688053989000, 'isVIP': {'id': 1, 'name': '是'}, 'publishTime': 1688047483000}, 'status': {'id': 4, 'name': '正常'}, 'bookStatus': {'id': 1, 'name': '连载'}, 'isVIP': {'id': 1, 'name': '是'}, 'bookmarkChapterId': 0, 'bookmarkChapterName': '', 'bookmarkChapterVipFlag': 0, 'topFlag': 0, 'createTimeValue': 1688117688000, 'updateTimeValue': 1688117690000, 'topTimeValue': 0, 'bookupdateTimeValue': 1688053989000, 'recCode': 'null1688128588708594', 'type': 5}, {'bookId': 3417179, 'bookName': '穿书七零：作精女配靠玄学躺赢', 'coverImg': 'https://cdn.static.17k.com/book/189x272/79/71/3417179.jpg-189x272?v=1647830639000', 'authorId': 80155009, 'authorPenName': '一束清风', 'introduction': '玄学大佬宋柠，穿成年代文的同名作精假千金，刚穿越就惨遭公婆设计离婚。\\n真千金和其养父母也趁机来找事，宋柠只好撸起袖子爬起来干架…\\n本来以为老公是个糙汉军官，谁知乔博却英俊又贴心…\\n宋柠：啧…老公真香！\\n干回老本行的宋柠，运气出奇的好，干什么都顺利的不得了，随手做的事业也越做越大…\\n宋柠：就离谱了…\\n乔博：啧…软饭真香！', 'bookClass': {'id': 3, 'name': '女生'}, 'bookChannel': {'id': 17, 'name': '现代言情'}, 'bookCategory': {'id': 136, 'name': '年代种田'}, 'authLevel': {'id': 4, 'name': 'VIP作品'}, 'progress': 0, 'lastUpdateChapter': {'id': 47223769, 'name': '第485章结尾', 'createTime': 1666508807000, 'updateTime': 1666510370000, 'isVIP': {'id': 1, 'name': '是'}, 'publishTime': 1666508807000}, 'status': {'id': 4, 'name': '正常'}, 'bookStatus': {'id': 3, 'name': '完本'}, 'isVIP': {'id': 1, 'name': '是'}, 'bookmarkChapterId': 0, 'bookmarkChapterName': '', 'bookmarkChapterVipFlag': 0, 'topFlag': 0, 'createTimeValue': 1688117688000, 'updateTimeValue': 1688117689000, 'topTimeValue': 0, 'bookupdateTimeValue': 1671677283000, 'recCode': 'null1688128588708594', 'type': 5}], 'num': 20, 'curPage': 1, 'totalNum': 5, 'totalPage': 1, 'hasMore': 0, 'time': 1688128588000}\n"
     ]
    }
   ],
   "source": [
    "resp=session.get('https://user.17k.com/ck/author/shelf?page=1&appKey=2406394919') #书架网页得到url\n",
    "print(resp.json())"
   ]
  },
  {
   "attachments": {},
   "cell_type": "markdown",
   "metadata": {},
   "source": [
    "如果实在不想用session，也不是没有方法：采用添加请求头，利用requests获取响应。"
   ]
  },
  {
   "cell_type": "code",
   "execution_count": 17,
   "metadata": {},
   "outputs": [
    {
     "name": "stdout",
     "output_type": "stream",
     "text": [
      "{'status': {'code': 0, 'msg': 'succ'}, 'data': [{'bookId': 3377676, 'bookName': '我的透视超给力', 'coverImg': 'https://cdn.static.17k.com/book/189x272/76/76/3377676.jpg-189x272?v=1661851591000', 'authorId': 85215151, 'authorPenName': '番茄炖肉', 'introduction': '我是老中医，专治各种吹牛逼！\\n我武道超神，吊打一切不服气！\\n秦飞偶得神秘传承，拥有神眼，从此医术通天，武道超神，且看他逆天崛起，笑傲人生。', 'bookClass': {'id': 2, 'name': '男生'}, 'bookChannel': {'id': 3, 'name': '都市小说'}, 'bookCategory': {'id': 87, 'name': '都市异能'}, 'authLevel': {'id': 4, 'name': 'VIP作品'}, 'progress': 0, 'lastUpdateChapter': {'id': 48022249, 'name': '第一千零七十三章  柳家的大代价', 'createTime': 1688057440000, 'updateTime': 1688087714000, 'isVIP': {'id': 1, 'name': '是'}, 'publishTime': 1688079900000}, 'status': {'id': 4, 'name': '正常'}, 'bookStatus': {'id': 1, 'name': '连载'}, 'isVIP': {'id': 1, 'name': '是'}, 'bookmarkChapterId': 0, 'bookmarkChapterName': '', 'bookmarkChapterVipFlag': 0, 'topFlag': 0, 'createTimeValue': 1688117688000, 'updateTimeValue': 1688117694000, 'topTimeValue': 0, 'bookupdateTimeValue': 1688087714000, 'recCode': 'null1688128781687071', 'type': 5}, {'bookId': 3430856, 'bookName': '分手后我成了前任的娇软白月光', 'coverImg': 'https://cdn.static.17k.com/book/189x272/56/08/3430856.jpg-189x272?v=1650790915000', 'authorId': 96144514, 'authorPenName': '欧阳元泉', 'introduction': '13年痴情错付，云雪尧一朝醒悟，痛快分手退婚，“渣男如狗，且抛且走！”\\n重拾事业，她在职场中飒爽杀伐，惊艳众人。\\n曾经弃她如敝履的男人，却疯了似的缠她上瘾，“尧尧，嫁给我好不好？”\\n云雪尧潋滟轻笑：“霄爷如今，怎么活成了自己最讨厌的样子？”\\n——\\n用了整整七年去恨她，等到她决然转身，江凌霄才发现：所有的恨意都抵不过失去她的恐惧。\\n“尧尧，我只求复合，不会逼你结婚。”\\n“尧尧，我只求结婚，不会逼你生宝宝。”\\n“尧尧，我们只生一个，不会让你多生……”\\n云雪尧揣着第三胎，忍无可忍，“江凌霄，你这个卑鄙小人！”\\n江凌霄：“尧尧，小人在你肚子里，我是你亲爱的。”', 'bookClass': {'id': 3, 'name': '女生'}, 'bookChannel': {'id': 17, 'name': '现代言情'}, 'bookCategory': {'id': 134, 'name': '总裁豪门'}, 'authLevel': {'id': 4, 'name': 'VIP作品'}, 'progress': 0, 'lastUpdateChapter': {'id': 47487215, 'name': '第322章 他的尧尧，回来了', 'createTime': 1671630636000, 'updateTime': 1671631275000, 'isVIP': {'id': 1, 'name': '是'}, 'publishTime': 1671630636000}, 'status': {'id': 4, 'name': '正常'}, 'bookStatus': {'id': 3, 'name': '完本'}, 'isVIP': {'id': 1, 'name': '是'}, 'bookmarkChapterId': 0, 'bookmarkChapterName': '', 'bookmarkChapterVipFlag': 0, 'topFlag': 0, 'createTimeValue': 1688117688000, 'updateTimeValue': 1688117692000, 'topTimeValue': 0, 'bookupdateTimeValue': 1672368782000, 'recCode': 'null1688128781687071', 'type': 5}, {'bookId': 3411557, 'bookName': '农门长姐：我娇养了五个大佬弟弟', 'coverImg': 'https://cdn.static.17k.com/book/189x272/57/15/3411557.jpg-189x272?v=1646704817000', 'authorId': 60959010, 'authorPenName': '香奈儿不香', 'introduction': '亲自带着百亿物资前往灾区赈灾的女霸总唐琪穿越开局就死娘，老爹征丁失踪，爷奶叔婶齐上阵要卖掉襁褓里的弟弟换粮食。\\n\\u3000\\u3000唐琪扬起扫帚，怒打极品血亲，化解危难后，看着三个小萝卜头弟弟，还有一个襁褓中的奶娃娃，她撸起袖子表示不要慌，有姐在就饿不死！\\n\\u3000\\u3000天无绝人之路，她的百亿物资竟然化作空间跟随她而来，唐琪凭着机智的头脑和天赋灵活使用百亿物资闷声发大财，斗渣渣、虐极品、送弟弟习文练武学医术，将他们养育成才。\\n\\u3000\\u3000后来--\\n\\u3000\\u3000少年将军：谁敢欺负我长姐，提头来见。\\n\\u3000\\u3000权臣首辅：谁敢辱骂我长姐，牢狱相会。\\n\\u3000\\u3000北周首富：谁敢骗财我长姐，赔个底掉。\\n\\u3000\\u3000鬼医传人：谁敢伤害我长姐，生不如死。\\n\\u3000\\u3000江湖少谷主：额我也来……谁敢欺负我义姐，虽远必毒。\\n\\u3000\\u3000京城众人皆惊：这唐家长女竟这般厉害，可婚配否？\\n\\u3000\\u3000镇国公爷：不瞒各位，娇妻已孕满三月，来年登门喝满月酒啊！', 'bookClass': {'id': 3, 'name': '女生'}, 'bookChannel': {'id': 5, 'name': '古代言情'}, 'bookCategory': {'id': 140, 'name': '女尊女强'}, 'authLevel': {'id': 4, 'name': 'VIP作品'}, 'progress': 0, 'lastUpdateChapter': {'id': 47268994, 'name': '第752章 我终于等到这一天了', 'createTime': 1667214009000, 'updateTime': 1667216184000, 'isVIP': {'id': 1, 'name': '是'}, 'publishTime': 1667214009000}, 'status': {'id': 4, 'name': '正常'}, 'bookStatus': {'id': 3, 'name': '完本'}, 'isVIP': {'id': 1, 'name': '是'}, 'bookmarkChapterId': 0, 'bookmarkChapterName': '', 'bookmarkChapterVipFlag': 0, 'topFlag': 0, 'createTimeValue': 1688117688000, 'updateTimeValue': 1688117691000, 'topTimeValue': 0, 'bookupdateTimeValue': 1671710108000, 'recCode': 'null1688128781687071', 'type': 5}, {'bookId': 3479673, 'bookName': '长生仙游', 'coverImg': 'https://cdn.static.17k.com/book/189x272/73/96/3479673.jpg-189x272?v=1662618309000', 'authorId': 65617443, 'authorPenName': '四更不睡', 'introduction': '一场意外将陈长生带到了一方仙侠世界，而他自身却被诅咒环绕，朝生暮死。\\n至此之后，他每三年只活过来一天，继而继续沉睡，轮回不休。\\n但却也因此被各路神仙误以为他是得道高人。\\n机缘巧遇之下，他走上了修行之道，苦寻破解蜉蝣诅咒的方法。\\n\\n每次醒来，却又恍若隔世。\\n秋风吹起，故人凋零。\\n\\n\\n', 'bookClass': {'id': 2, 'name': '男生'}, 'bookChannel': {'id': 24, 'name': '仙侠武侠'}, 'bookCategory': {'id': 9, 'name': '古典仙侠'}, 'authLevel': {'id': 4, 'name': 'VIP作品'}, 'progress': 0, 'lastUpdateChapter': {'id': 48021518, 'name': '第六百五十三章：抓魔修', 'createTime': 1688047483000, 'updateTime': 1688053989000, 'isVIP': {'id': 1, 'name': '是'}, 'publishTime': 1688047483000}, 'status': {'id': 4, 'name': '正常'}, 'bookStatus': {'id': 1, 'name': '连载'}, 'isVIP': {'id': 1, 'name': '是'}, 'bookmarkChapterId': 0, 'bookmarkChapterName': '', 'bookmarkChapterVipFlag': 0, 'topFlag': 0, 'createTimeValue': 1688117688000, 'updateTimeValue': 1688117690000, 'topTimeValue': 0, 'bookupdateTimeValue': 1688053989000, 'recCode': 'null1688128781687071', 'type': 5}, {'bookId': 3417179, 'bookName': '穿书七零：作精女配靠玄学躺赢', 'coverImg': 'https://cdn.static.17k.com/book/189x272/79/71/3417179.jpg-189x272?v=1647830639000', 'authorId': 80155009, 'authorPenName': '一束清风', 'introduction': '玄学大佬宋柠，穿成年代文的同名作精假千金，刚穿越就惨遭公婆设计离婚。\\n真千金和其养父母也趁机来找事，宋柠只好撸起袖子爬起来干架…\\n本来以为老公是个糙汉军官，谁知乔博却英俊又贴心…\\n宋柠：啧…老公真香！\\n干回老本行的宋柠，运气出奇的好，干什么都顺利的不得了，随手做的事业也越做越大…\\n宋柠：就离谱了…\\n乔博：啧…软饭真香！', 'bookClass': {'id': 3, 'name': '女生'}, 'bookChannel': {'id': 17, 'name': '现代言情'}, 'bookCategory': {'id': 136, 'name': '年代种田'}, 'authLevel': {'id': 4, 'name': 'VIP作品'}, 'progress': 0, 'lastUpdateChapter': {'id': 47223769, 'name': '第485章结尾', 'createTime': 1666508807000, 'updateTime': 1666510370000, 'isVIP': {'id': 1, 'name': '是'}, 'publishTime': 1666508807000}, 'status': {'id': 4, 'name': '正常'}, 'bookStatus': {'id': 3, 'name': '完本'}, 'isVIP': {'id': 1, 'name': '是'}, 'bookmarkChapterId': 0, 'bookmarkChapterName': '', 'bookmarkChapterVipFlag': 0, 'topFlag': 0, 'createTimeValue': 1688117688000, 'updateTimeValue': 1688117689000, 'topTimeValue': 0, 'bookupdateTimeValue': 1671677283000, 'recCode': 'null1688128781687071', 'type': 5}], 'num': 20, 'curPage': 1, 'totalNum': 5, 'totalPage': 1, 'hasMore': 0, 'time': 1688128781000}\n"
     ]
    }
   ],
   "source": [
    "resp=session.get('https://user.17k.com/ck/author/shelf?page=1&appKey=2406394919',headers={\n",
    "    \"Cookie\": \"GUID=53705c7d-1d24-42d4-8bd8-78052e056e06; BAIDU_SSP_lcr=https://www.baidu.com/link?url=BKfDav8aGdScak_htRhVg89DUJs1ioYKtNu05NbWieO&wd=&eqid=cf11c26100031e0100000003649ea175; sajssdk_2015_cross_new_user=1; Hm_lvt_9793f42b498361373512340937deb2a0=1688117627; c_channel=0; c_csc=web; accessToken=avatarUrl%3Dhttps%253A%252F%252Fcdn.static.17k.com%252Fuser%252Favatar%252F10%252F30%252F91%252F100389130.jpg-88x88%253Fv%253D1688117688000%26id%3D100389130%26nickname%3Dlangintro%26e%3D1703680484%26s%3D0cc20e9873e85c2d; sensorsdata2015jssdkcross=%7B%22distinct_id%22%3A%22100389130%22%2C%22%24device_id%22%3A%221890ba6c68f1ca-0c43f98551aa65-376b4502-1296000-1890ba6c6901a1%22%2C%22props%22%3A%7B%22%24latest_traffic_source_type%22%3A%22%E8%87%AA%E7%84%B6%E6%90%9C%E7%B4%A2%E6%B5%81%E9%87%8F%22%2C%22%24latest_referrer%22%3A%22https%3A%2F%2Fwww.baidu.com%2Flink%22%2C%22%24latest_referrer_host%22%3A%22www.baidu.com%22%2C%22%24latest_search_keyword%22%3A%22%E6%9C%AA%E5%8F%96%E5%88%B0%E5%80%BC%22%7D%2C%22first_id%22%3A%2253705c7d-1d24-42d4-8bd8-78052e056e06%22%7D; Hm_lpvt_9793f42b498361373512340937deb2a0=1688128496\"\n",
    "})\n",
    "print(resp.json())"
   ]
  }
 ],
 "metadata": {
  "kernelspec": {
   "display_name": "myenv",
   "language": "python",
   "name": "python3"
  },
  "language_info": {
   "codemirror_mode": {
    "name": "ipython",
    "version": 3
   },
   "file_extension": ".py",
   "mimetype": "text/x-python",
   "name": "python",
   "nbconvert_exporter": "python",
   "pygments_lexer": "ipython3",
   "version": "3.9.16"
  },
  "orig_nbformat": 4
 },
 "nbformat": 4,
 "nbformat_minor": 2
}
