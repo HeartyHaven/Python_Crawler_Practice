{
 "cells": [
  {
   "attachments": {},
   "cell_type": "markdown",
   "metadata": {},
   "source": [
    "# 爬取视频\n",
    "一般情况下视频包装在`<video src='xxx.mp4'></video>`。\n",
    "\n",
    "一般不会有网站直接把一个视频嵌入到网页里面，第一是数据量太大，加载很慢，用户很不爽；另外就是加载一次视频的流量太大，如果有的用户不是非得从头看到尾，那么其他的地方就白加载了，这也是一种浪费。"
   ]
  },
  {
   "attachments": {},
   "cell_type": "markdown",
   "metadata": {},
   "source": [
    "## 一般的视频网站是怎么做的？\n",
    "用户上传->转码(把视频进行处理：2K，1080，标清)->对视频进行切片处理(把单个的文件进行拆分)：用户在拉动进度条的时候，只加载该位置的切片，然后在读的时候逐步地加载后面的切片。\n",
    "\n",
    "由于分成的切片肯定不能随便堆在存储区，所以需要一个文件来记录：1.视频播放的顺序；2.视频存放的路径。\n",
    "\n",
    "我们一般倾向于把切分好的视频数据放到一个叫做`M3U`的**文本**。然后对`M3U`文件进行utf-8编码，就得到了`M3U8`文件，该文件的结构大概如下所示。\n",
    "\n",
    "![M3U8](m3u8.png)\n",
    "\n",
    "以井号`#`开头的数据都有一些自己的含义。在这个文件中要关注的地方：\n",
    "\n",
    "1. 井号开头的部分：加密方法的了解。\n",
    "2. .ts文件：反映的是每一个切片的URL。"
   ]
  },
  {
   "attachments": {},
   "cell_type": "markdown",
   "metadata": {},
   "source": [
    "## 怎样抓取一个视频？\n",
    "1. 找到m3u8文件(各种手段)；\n",
    "2. 通过m3u8下载到ts文件；\n",
    "3. 通过各种手段(不限于编程手段)把ts文件合并为一个mp4文件。"
   ]
  },
  {
   "cell_type": "code",
   "execution_count": null,
   "metadata": {},
   "outputs": [],
   "source": [
    "import requests\n",
    "import re\n",
    "url='https://www.hhedai.com/vod/63046-1-1.html'\n",
    "resp=requests.get(url).text\n",
    "# print(resp.text)\n",
    "obj=re.compile(r'<script>var cms_player = {\"yun\":true,\"url\":\"(?P<url>.*?)\"',re.S)\n",
    "url=re.search(obj,resp).group('url').replace(\"\\\\\",\"\")\n",
    "# print(url)\n",
    "m3u81=requests.get(url).text\n",
    "# print(m3u81)\n",
    "obj2=re.compile(r'(?<=\\n)(.*)',re.S)\n",
    "extend=re.search(obj2,m3u81).group(1)\n",
    "extend=re.search(obj2,extend).group(1)\n",
    "# print(extend)\n",
    "# print('done!')\n",
    "url=url.rsplit('/',1)[0]+'/'+extend\n",
    "print(url)\n",
    "# if url=='https://pptv.sd-play.com/202306/05/GMCCZdL3m83/video/900k_0X480_64k_25/hls/index.m3u8':\n",
    "    #      https://pptv.sd-play.com/202306/05/GMCCZdL3m83/video/900k_0X480_64k_25/hls/index.m3u8\n",
    "resp1=requests.get('https://pptv.sd-play.com/202306/05/GMCCZdL3m83/video/900k_0X480_64k_25/hls/index.m3u8')  \n",
    "print(resp1.text)\n",
    "with open('test.m3u8','wb')as f:\n",
    "    f.write(resp1.content)\n",
    "f.close()\n",
    "print('下载完毕！')\n",
    "# else:\n",
    "#     print('url不匹配！')\n",
    "# https://pptv.sd-play.com/202306/05/GMCCZdL3m83/video/900k_0X480_64k_25/hls/index.m3u8\n",
    "# https://pptv.sd-play.com/202306/05/GMCCZdL3m83/video/900k_0X480_64k_25/hls/index.m3u8"
   ]
  },
  {
   "cell_type": "code",
   "execution_count": 7,
   "metadata": {},
   "outputs": [
    {
     "name": "stdout",
     "output_type": "stream",
     "text": [
      "1 .ts done!\n",
      "2 .ts done!\n",
      "3 .ts done!\n",
      "4 .ts done!\n",
      "5 .ts done!\n",
      "6 .ts done!\n",
      "7 .ts done!\n",
      "8 .ts done!\n",
      "9 .ts done!\n",
      "10 .ts done!\n",
      "11 .ts done!\n",
      "12 .ts done!\n"
     ]
    },
    {
     "ename": "",
     "evalue": "",
     "output_type": "error",
     "traceback": [
      "\u001b[1;31m无法执行代码，已释放会话。请尝试重新启动内核。"
     ]
    },
    {
     "ename": "",
     "evalue": "",
     "output_type": "error",
     "traceback": [
      "\u001b[1;31m在当前单元格或上一个单元格中执行代码时 Kernel 崩溃。请查看单元格中的代码，以确定故障的可能原因。有关详细信息，请单击 <a href='https://aka.ms/vscodeJupyterKernelCrash'>此处</a>。有关更多详细信息，请查看 Jupyter <a href='command:jupyter.viewOutput'>log</a>。"
     ]
    }
   ],
   "source": [
    "n=1\n",
    "with open('test.m3u8','r',encoding='utf-8')as f:\n",
    "    for line in f:\n",
    "        line=line.strip()\n",
    "        if line.startswith('#'):#判断一个字符串以#打头\n",
    "            continue\n",
    "        # print(line)\n",
    "        resp3=requests.get(line)\n",
    "        f1=open(f'video/{n}.ts',mode='wb')\n",
    "        f1.write(resp3.content)\n",
    "        print(n,'.ts done!')\n",
    "        n+=1\n",
    "    f.close()\n",
    "    resp3.close()\n",
    "\n",
    "        "
   ]
  },
  {
   "cell_type": "code",
   "execution_count": null,
   "metadata": {},
   "outputs": [],
   "source": []
  }
 ],
 "metadata": {
  "kernelspec": {
   "display_name": "myenv",
   "language": "python",
   "name": "python3"
  },
  "language_info": {
   "codemirror_mode": {
    "name": "ipython",
    "version": 3
   },
   "file_extension": ".py",
   "mimetype": "text/x-python",
   "name": "python",
   "nbconvert_exporter": "python",
   "pygments_lexer": "ipython3",
   "version": "3.9.16"
  },
  "orig_nbformat": 4
 },
 "nbformat": 4,
 "nbformat_minor": 2
}
