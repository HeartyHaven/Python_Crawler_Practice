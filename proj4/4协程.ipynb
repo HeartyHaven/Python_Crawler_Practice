{
 "cells": [
  {
   "attachments": {},
   "cell_type": "markdown",
   "metadata": {},
   "source": [
    "# 协程"
   ]
  },
  {
   "cell_type": "code",
   "execution_count": 5,
   "metadata": {},
   "outputs": [
    {
     "name": "stdout",
     "output_type": "stream",
     "text": [
      "Hello\n",
      "ha\n"
     ]
    }
   ],
   "source": [
    "import time\n",
    "def fn(name):\n",
    "    print(\"Hello\")\n",
    "    time.sleep(3)\n",
    "    print(name)\n",
    "\n",
    "name=input()\n",
    "fn(name)"
   ]
  },
  {
   "attachments": {},
   "cell_type": "markdown",
   "metadata": {},
   "source": [
    "上面这个程序很好地呈现了什么是“阻塞”。所谓“阻塞”，就是程序运行到如sleep()或input()这里，因为需要强制休眠或者等待输入而导致CPU停止了工作（通过暂停工作来完成任务）。同理，在requests.get()中，网络请求返回数据之前，程序也是处于阻塞状态的。其实一般情况下，程序在执行IO操作的时候同样也是处于阻塞状态的。\n",
    "\n",
    "**协程**：当遇见了io操作的时候，可以选择性地切换到其他任务上。"
   ]
  },
  {
   "attachments": {},
   "cell_type": "markdown",
   "metadata": {},
   "source": [
    "在微观上是一个任务一个任务地进行切换，切换条件就是发生io操作；在宏观上我们能看到实际上是多个任务一起执行。这就是多任务异步操作。上面说的一切都是在单线程的条件下。"
   ]
  },
  {
   "cell_type": "code",
   "execution_count": null,
   "metadata": {},
   "outputs": [],
   "source": [
    "import asyncio\n",
    "\n",
    "async def func():           #添加async:变成了异步协程函数\n",
    "    print(\"nihao!\")\n",
    "\n",
    "if __name__=='__main__':\n",
    "    g=func()                #此时函数执行得到的是一个协程对象\n",
    "    # print(g)\n",
    "    asyncio.run(g)          #不知道为什么这里会报错，难道是因为前面的程序的原因吗？所以现在同名py文件下运行。"
   ]
  },
  {
   "attachments": {},
   "cell_type": "markdown",
   "metadata": {},
   "source": [
    "接下来演示如何使用asyncio进行异步协程加快执行速度。"
   ]
  },
  {
   "cell_type": "code",
   "execution_count": null,
   "metadata": {},
   "outputs": [],
   "source": [
    "import asyncio\n",
    "import time\n",
    "async def fn():           #添加async:变成了异步协程函数\n",
    "    print(\"nihao!\")\n",
    "\n",
    "async def func1():\n",
    "    print(\"i am \")\n",
    "    # time.sleep(2)         #同步休眠，休眠的时候不能执行其他任何任务\n",
    "    await asyncio.sleep(2)  #异步的休眠，这个任务休眠的时候立刻运行其他的任务。\n",
    "    print('func1')\n",
    "\n",
    "async def func2():\n",
    "    print(\"i am \")\n",
    "    # time.sleep(2)\n",
    "    await asyncio.sleep(2)\n",
    "    print('func2')\n",
    "\n",
    "async def func3():\n",
    "    print(\"i am \")\n",
    "    # time.sleep(2)\n",
    "    await asyncio.sleep(2)\n",
    "    print('func3')\n",
    "\n",
    "if __name__=='__main__':\n",
    "    # g=fn()#此时函数执行得到的是一个协程对象\n",
    "    # # print(g)\n",
    "    # asyncio.run(g)  #协程程序的运行需要asyncio的支持\n",
    "    f1=func1()\n",
    "    f2=func2()\n",
    "    f3=func3()\n",
    "    tasks=[f1,f2,f3]\n",
    "    t1=time.time()\n",
    "    asyncio.run(asyncio.wait(tasks))    #多个任务交给asyncio.wait，用asyncio.run执行\n",
    "    t2=time.time()\n",
    "    print(\"time:\",t2-t1)               \n",
    "     #使用time.sleep():time: 6.01953387260437:说明sleep还是没有避免，出现了同步操作的时候，异步操作就中断了。\n",
    "     #使用await asyncio.sleep():time: 2.0174758434295654，此时效率得到了大幅提升。最终的等待时间被缩减为2秒。"
   ]
  },
  {
   "attachments": {},
   "cell_type": "markdown",
   "metadata": {},
   "source": [
    "这个程序虽然确实提高了执行速度，但是这不是最好的方案。下面给出一个python官方推荐的异步协程程序的写法。"
   ]
  },
  {
   "cell_type": "code",
   "execution_count": null,
   "metadata": {},
   "outputs": [],
   "source": [
    "import asyncio\n",
    "import time\n",
    "async def fn():           #添加async:变成了异步协程函数\n",
    "    print(\"nihao!\")\n",
    "\n",
    "async def func1():\n",
    "    print(\"i am \")\n",
    "    # time.sleep(2)         #同步休眠，休眠的时候不能执行其他任何任务\n",
    "    await asyncio.sleep(2)  #异步的休眠，这个任务休眠的时候立刻运行其他的任务。\n",
    "    print('func1')\n",
    "\n",
    "async def func2():\n",
    "    print(\"i am \")\n",
    "    # time.sleep(2)\n",
    "    await asyncio.sleep(2)\n",
    "    print('func2')\n",
    "\n",
    "async def func3():\n",
    "    print(\"i am \")\n",
    "    # time.sleep(2)\n",
    "    await asyncio.sleep(2)\n",
    "    print('func3')\n",
    "async def main():\n",
    "    # #python要求：1.await挂起操作必须放在这个定义的main里面。2.await必须放在协程对象前面。\n",
    "    # #第一种写法，并不推荐：\n",
    "    # f1=func1()\n",
    "    # await f1...        #await挂起实际是调用一个异步协程对象，相当于就让f1运行起来了\n",
    "\n",
    "    # tasks=[func1(),func2(),func3()]\n",
    "    #为了应对python3.11即将废除这种直接把协程对象放到列表里边的问题，以后需要手动在tasks里面创建tasks对象。\n",
    "    tasks=[\n",
    "        asyncio.create_task(func1()),\n",
    "        asyncio.create_task(func2()),\n",
    "        asyncio.create_task(func3())\n",
    "    ]\n",
    "    \n",
    "    await asyncio.wait(tasks)   \n",
    "    #await是挂起操作，指提上日程开始执行；asyncio.wait指的是task里面的函数应该以异步协程的方式运行。\n",
    "    #之所以推荐这种方法，是因为这一套模板能够很完美地适配一个爬虫。\n",
    "    #我们可以把不同的url封装在函数里面，形成一个函数组，放进一个tasks列表然后直接套到这个模板里边。\n",
    "    #效率极高。\n",
    "    pass\n",
    "if __name__=='__main__':\n",
    "    t1=time.time()\n",
    "    asyncio.run(main())\n",
    "    t2=time.time()\n",
    "    print('time',t2-t1)#time 2.010483503341675"
   ]
  },
  {
   "cell_type": "code",
   "execution_count": 10,
   "metadata": {},
   "outputs": [
    {
     "name": "stdout",
     "output_type": "stream",
     "text": [
      "essays/53542058.txt\n"
     ]
    }
   ],
   "source": [
    "import requests\n",
    "from lxml import etree\n",
    "url='https://www.biqudd.com/126_126944/53542058.html'\n",
    "name='essays/'+url.rsplit(\"/\",1)[1].replace(\".html\",\".txt\")\n",
    "print(name)\n",
    "# resp=requests.get(url)\n",
    "# tree=etree.HTML(resp.text)\n",
    "# contents=tree.xpath('/html/body/div[1]/div[2]/div/div[4]/text()')\n",
    "# contstr=''\n",
    "# for cont in contents[1:]:\n",
    "#     cont=cont.strip('\\xa0')\n",
    "#     contstr+=cont\n",
    "#     contstr+='\\n'\n",
    "# print(contstr)\n"
   ]
  }
 ],
 "metadata": {
  "kernelspec": {
   "display_name": "myenv",
   "language": "python",
   "name": "python3"
  },
  "language_info": {
   "codemirror_mode": {
    "name": "ipython",
    "version": 3
   },
   "file_extension": ".py",
   "mimetype": "text/x-python",
   "name": "python",
   "nbconvert_exporter": "python",
   "pygments_lexer": "ipython3",
   "version": "3.9.16"
  },
  "orig_nbformat": 4
 },
 "nbformat": 4,
 "nbformat_minor": 2
}
