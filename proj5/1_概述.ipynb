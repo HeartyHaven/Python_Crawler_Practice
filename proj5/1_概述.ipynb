{
 "cells": [
  {
   "cell_type": "markdown",
   "metadata": {},
   "source": [
    "# 01 Selenium 引入概述\n",
    "思想来源：有时网页内容经过复杂的加密，如果要解密十分麻烦和痛苦。但是既然在浏览器上显示正常，我们能不能让浏览器来完成这些复杂的操作，只接受最后的结果呢？\n",
    "\n",
    "答案是：有。我们可以利用工具 *selenium*完成这个工作。*selenium*原本并不是一个爬虫工具，而是一个自动化的测试工具，它的功能是打开浏览器，然后像人一样操作浏览器。程序员可以从*selenium*中取得网页中任何想要的东西。\n",
    "\n",
    "### 环境搭建\n",
    "- pip install selenium -i 清华源\n",
    "- 下载浏览器驱动：https://npm.taobao.org/mirrors/chromedriver\n",
    "- 下载完毕后的exe文件放到python解释器的路径下。"
   ]
  },
  {
   "cell_type": "code",
   "execution_count": null,
   "metadata": {},
   "outputs": [],
   "source": [
    "! pip install selenium"
   ]
  },
  {
   "cell_type": "code",
   "execution_count": 2,
   "metadata": {},
   "outputs": [],
   "source": [
    "from selenium.webdriver import Chrome"
   ]
  },
  {
   "cell_type": "code",
   "execution_count": 7,
   "metadata": {},
   "outputs": [
    {
     "name": "stdout",
     "output_type": "stream",
     "text": [
      "百度一下，你就知道\n"
     ]
    }
   ],
   "source": [
    "#创建浏览器对象\n",
    "web=Chrome()\n",
    "web.get('https://www.baidu.com')\n",
    "#获取页面标题\n",
    "print(web.title)\n"
   ]
  },
  {
   "cell_type": "markdown",
   "metadata": {},
   "source": [
    "### selenium 抓清华源\n",
    "selenium能够模拟所有人类在网页的行为，下面进行展示。"
   ]
  },
  {
   "cell_type": "code",
   "execution_count": 14,
   "metadata": {},
   "outputs": [],
   "source": [
    "from selenium.webdriver.common.by import By\n",
    "from selenium.webdriver.common.keys import Keys\n",
    "import time \n",
    "browser = Chrome()\n",
    "browser.get('https://www.bilibili.com/')#打开B站\n",
    "el=browser.find_element(By.XPATH,'//*[@id=\"i_cecream\"]/div[2]/div[1]/div[3]/div[2]/div[1]/a[9]')\n",
    "#找到鬼畜按钮(find_elements_by_xpath等方法现已废除)\n",
    "el.click()#点击按钮\n",
    "time.sleep(1)#这里的按钮是一个a标签，如果是ajax重新渲染网页的话，你就不得不刻意等待渲染的完成，否则会报错。\n",
    "el=browser.find_element(By.XPATH,'//*[@id=\"nav-searchform\"]/div[1]/input').send_keys('python',Keys.ENTER)\n",
    "#这里的输入框应该是选择输入文字的最内层框。在搜索栏输入'python'"
   ]
  },
  {
   "cell_type": "markdown",
   "metadata": {},
   "source": [
    "运行上面这个代码，可以发现，完成这样简单的功能需要的时间非常的长。部分是因为下一个动作只在上一个网页完全加载完毕之后才能出现。这也是selenium致密的弱点之一。"
   ]
  },
  {
   "cell_type": "code",
   "execution_count": 49,
   "metadata": {},
   "outputs": [
    {
     "name": "stdout",
     "output_type": "stream",
     "text": [
      "['Parent directory/', 'dists/', 'indices/', 'pool/', 'project/', 'ubuntu/', 'ls-lR.gz']\n"
     ]
    }
   ],
   "source": [
    "browser=Chrome()\n",
    "browser.get('https://mirrors.tuna.tsinghua.edu.cn/')#打开清华镜像\n",
    "el=browser.find_element(By.XPATH,'//*[@id=\"mirror-list\"]/table/tbody/tr[188]/td[1]/a[1]')\n",
    "#找到Ubuntu按钮(find_elements_by_xpath等方法现已废除)\n",
    "el.click()#点击按钮\n",
    "#找到我们所想要的内容的位置，并且拉取到本地。这里假设我们想要的是Ubuntu下所有的下载文件名称。\n",
    "# div_mot=browser.find_element(By.CLASS_NAME,'//*[@id=\"i_cecream\"]/div/main/div/div[1]/div/div/div[3]')\n",
    "div_list=browser.find_elements(By.XPATH,'//*[@id=\"list\"]/tbody/tr')\n",
    "a_list=[]\n",
    "for div in div_list:\n",
    "    a_list.append(div.find_element(By.XPATH,'./td/a').text)\n",
    "print(a_list)"
   ]
  },
  {
   "cell_type": "markdown",
   "metadata": {},
   "source": [
    "### selenium抓拉勾网\n"
   ]
  },
  {
   "cell_type": "code",
   "execution_count": 60,
   "metadata": {},
   "outputs": [],
   "source": [
    "from selenium.webdriver.common.keys import Keys #模拟按键的库\n",
    "import time\n",
    "web=Chrome()\n",
    "web.get('https://www.lagou.com/')\n",
    "el=web.find_element(By.XPATH,'//*[@id=\"changeCityBox\"]/ul/li[1]/a')\n",
    "el.click()\n",
    "time.sleep(1)\n",
    "web.find_element(By.XPATH,'//*[@id=\"search_input\"]').send_keys('python',Keys.ENTER)\n",
    "time.sleep(1)\n",
    "#接下来要做的是，点开其中一个职位的详情界面获取应聘要求。我们要解决的问题是如何进入到新窗口中进行提取。\n",
    "el=web.find_element(By.XPATH,'//*[@id=\"openWinPostion\"]')\n",
    "el.click()\n",
    "time.sleep(1)"
   ]
  },
  {
   "cell_type": "markdown",
   "metadata": {},
   "source": [
    "注意，在selenium眼中，新窗口是默认不切换过来的。它还停留在原来的窗口中。"
   ]
  },
  {
   "cell_type": "code",
   "execution_count": 61,
   "metadata": {},
   "outputs": [
    {
     "name": "stdout",
     "output_type": "stream",
     "text": [
      "岗位职责：\n",
      "1.负责大模型（包括chatgpt，文心一言等）的promt优化,basecase解决;\n",
      "2.负责公司AI系统的设计与研发。\n",
      "3.负责公司AI类模型的工程化落地。\n",
      "4.负责公司AI服务的在线数据流建设。\n",
      "任职资格：\n",
      "1.扎实的计算机基础，出色的编程能力。\n",
      "2.熟练掌握python，掌握c++，java，go之一。\n",
      "3.对在线服务的架构设计，性能优化有着不错的理解和实践。\n",
      "4.熟练使用Mysql/Redis/Kafka/Spark等在线数据存储和加工的常见组件。\n",
      "5.良好的系统设计能力，对大流量和重计算的分布式系统有着比较丰富的设计经验。\n",
      "6.熟悉云原生平台，对日志系统，常用的服务器命令和底层原理有着不错的理解。\n",
      "7.对推荐系统，自然语言处理，机器视觉等方向有一定了解，并且有强烈的兴趣。\n",
      "8.优秀的技术研究能力，能对新领域展开深入研究。\n"
     ]
    }
   ],
   "source": [
    "#接下来介绍如何进入到新窗口中进行提取。\n",
    "web.switch_to.window(web.window_handles[-1])#切换到网页选项卡中的最后一个窗口，也就是新打开的窗口\n",
    "job_detail=web.find_element(By.XPATH,'//*[@id=\"job_detail\"]/dd[2]/div').text\n",
    "print(job_detail)"
   ]
  },
  {
   "cell_type": "code",
   "execution_count": 62,
   "metadata": {},
   "outputs": [],
   "source": [
    "#接下来介绍怎么关闭页面和退回到原来的页面。\n",
    "web.close()#关闭当前所在页面\n",
    "web.switch_to.window(web.window_handles[0])#利用网页的选项卡回退到原来的网页。"
   ]
  },
  {
   "cell_type": "markdown",
   "metadata": {},
   "source": [
    "接下来介绍一下web的另外一种切换方式。\n",
    "\n",
    "如果有的时候爬视频遇到了iframe（就是视频框内嵌入了另外一个网页，不能从当前网页直接获取），必须先拿到iframe，然后切换视角到iframe，最后才能够拿到数据。\n",
    "\n",
    "下面以茶杯狐为例，尝试抓取电影《潜水》的视频数据。"
   ]
  },
  {
   "cell_type": "code",
   "execution_count": 66,
   "metadata": {},
   "outputs": [
    {
     "name": "stdout",
     "output_type": "stream",
     "text": [
      "blob:https://www.gszyv.com/4f17a5fc-0ceb-4a3d-b5d0-f788534d9b17\n"
     ]
    }
   ],
   "source": [
    "web=Chrome()\n",
    "web.get('https://www.cqjschungao.com/cupfoxplay/174372-1-1/')\n",
    "iframe=web.find_element(By.XPATH,'//*[@id=\"playleft\"]/iframe')\n",
    "#因为一个网页中可能会镶嵌多个iframe,所以需要用特定的方式来指定。\n",
    "web.switch_to.frame(iframe)\n",
    "#现在驱动就跳到iframe里面去了\n",
    "video_tag=web.find_element(By.XPATH,'//*[@id=\"dplayer\"]/div[2]/video')\n",
    "src=video_tag.get_attribute('src')\n",
    "print(src)"
   ]
  },
  {
   "cell_type": "code",
   "execution_count": 67,
   "metadata": {},
   "outputs": [],
   "source": [
    "#下面介绍怎么从iframe中跳出来到原来的网页窗口\n",
    "web.switch_to.default_content()#默认的窗口就是打开的那个页面。"
   ]
  },
  {
   "cell_type": "markdown",
   "metadata": {},
   "source": [
    "### 总结\n",
    "selenium十分的方便，只要是人在网上看到的东西，selenium都能够拿到手，而且代码写起来就像人说话一样，非常的具体和容易；但是其弊端也非常显著：一是非常的慢，必须等网页加载完了才继续；二是容易被反扒识别，一旦被发现几乎无解。"
   ]
  }
 ],
 "metadata": {
  "kernelspec": {
   "display_name": "myenv",
   "language": "python",
   "name": "python3"
  },
  "language_info": {
   "codemirror_mode": {
    "name": "ipython",
    "version": 3
   },
   "file_extension": ".py",
   "mimetype": "text/x-python",
   "name": "python",
   "nbconvert_exporter": "python",
   "pygments_lexer": "ipython3",
   "version": "3.9.16"
  },
  "orig_nbformat": 4
 },
 "nbformat": 4,
 "nbformat_minor": 2
}
