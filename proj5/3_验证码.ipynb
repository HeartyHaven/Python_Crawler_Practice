{
 "cells": [
  {
   "cell_type": "markdown",
   "metadata": {},
   "source": [
    "# 破解验证码\n",
    "目前，破解验证码的方法有两种：一是图像识别；二是选择互联网上成熟的验证码破解工具。\n",
    "\n",
    "如果自己写图像识别，要知道不同网站的验证码的形式千差万别，需要的训练集、网络参数都不尽相同，这种开发的时间开销是很大的。\n",
    "\n",
    "成熟的验证码识别工具，适用性更广，功能也更加强大，为什么不用呢？这里根据教程使用了**超级鹰**这款验证码识别工具。\n",
    "\n",
    "其操作方式如下：\n",
    "- 网页搜索[超级鹰主页](http://www.chaojiying.com)；\n",
    "- 注册一个账号；\n",
    "- 公众号关注“超级鹰”，领取1000题分（做识别会消耗题分）\n",
    "- 用户中心 $\\rightarrow$ 软件ID $\\rightarrow$ 生成一个软件ID；\n",
    "- 记住软件ID和软件KEY,之后在本地调用接口要用。\n",
    "- 开发文档 $\\rightarrow$ python语言Demo下载 $\\rightarrow$ 点击这里下载，下载示例程序。\n",
    "- 将示例程序放到项目当中,并且根据要求修改这个程序。\n",
    "\n",
    "*本人与超级鹰网站无关，只是应课程需要使用了这个工具，没有在做宣传。*"
   ]
  },
  {
   "cell_type": "code",
   "execution_count": 6,
   "metadata": {},
   "outputs": [],
   "source": [
    "from selenium.webdriver import Chrome\n",
    "from selenium.webdriver.common.by import By\n",
    "web=Chrome()\n",
    "web.get('http://www.chaojiying.com/user/login/')"
   ]
  },
  {
   "cell_type": "markdown",
   "metadata": {},
   "source": [
    "获取验证码图片"
   ]
  },
  {
   "cell_type": "code",
   "execution_count": 7,
   "metadata": {},
   "outputs": [],
   "source": [
    "img=web.find_element(By.XPATH,'/html/body/div[3]/div/div[3]/div[1]/form/div/img').screenshot_as_png#自动对网站的对象进行截图"
   ]
  },
  {
   "cell_type": "markdown",
   "metadata": {},
   "source": [
    "调用超级鹰处理验证码"
   ]
  },
  {
   "cell_type": "code",
   "execution_count": 8,
   "metadata": {},
   "outputs": [],
   "source": [
    "from chaojiying import Chaojiying_Client\n",
    "import time\n",
    "chaojiying = Chaojiying_Client('YOUR_ACCOUNT', 'YOUR_PASSWORD', 'YOUR_ID')\n",
    "dic=chaojiying.PostPic(img,1902)#向超级鹰发送验证码图片\n",
    "verify_code=dic['pic_str']\n",
    "#向页面中填入用户名、密码、验证码，然后点击登录\n",
    "account=web.find_element(By.XPATH,'/html/body/div[3]/div/div[3]/div[1]/form/p[1]/input')\n",
    "psw=web.find_element(By.XPATH,'/html/body/div[3]/div/div[3]/div[1]/form/p[2]/input')\n",
    "account.send_keys('YOUR_ACCOUNT')#填写用户名\n",
    "time.sleep(0.5)#为了观察清楚\n",
    "psw.send_keys('YOUR_PASSWORD')#填写密码\n",
    "time.sleep(0.5)\n",
    "veri=web.find_element(By.XPATH,'/html/body/div[3]/div/div[3]/div[1]/form/p[3]/input')\n",
    "veri.send_keys(verify_code)#填写验证码\n",
    "time.sleep(0.5)\n",
    "login_button=web.find_element(By.XPATH,'/html/body/div[3]/div/div[3]/div[1]/form/p[4]/input')\n",
    "login_button.click()#点击登录按钮进行登录"
   ]
  }
 ],
 "metadata": {
  "kernelspec": {
   "display_name": "myenv",
   "language": "python",
   "name": "python3"
  },
  "language_info": {
   "codemirror_mode": {
    "name": "ipython",
    "version": 3
   },
   "file_extension": ".py",
   "mimetype": "text/x-python",
   "name": "python",
   "nbconvert_exporter": "python",
   "pygments_lexer": "ipython3",
   "version": "3.9.16"
  },
  "orig_nbformat": 4
 },
 "nbformat": 4,
 "nbformat_minor": 2
}
