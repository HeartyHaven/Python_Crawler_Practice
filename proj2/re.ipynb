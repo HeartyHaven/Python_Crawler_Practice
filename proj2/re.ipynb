{
 "cells": [
  {
   "cell_type": "code",
   "execution_count": 5,
   "metadata": {},
   "outputs": [],
   "source": [
    "import re"
   ]
  },
  {
   "attachments": {},
   "cell_type": "markdown",
   "metadata": {},
   "source": [
    "`findall` 匹配字符串中所有符合正则的字符串。"
   ]
  },
  {
   "cell_type": "code",
   "execution_count": 6,
   "metadata": {},
   "outputs": [
    {
     "name": "stdout",
     "output_type": "stream",
     "text": [
      "['10086']\n"
     ]
    }
   ],
   "source": [
    "a=re.findall(r\"\\d+\", \"我的电话号是10086\")\n",
    "print(a)"
   ]
  },
  {
   "attachments": {},
   "cell_type": "markdown",
   "metadata": {},
   "source": [
    "`finditer` 匹配所有符合条件的字符串，不过是返回一个迭代器。迭代器就是一次只出来一个。从迭代器中得到内容需要使用`.group()`。"
   ]
  },
  {
   "cell_type": "code",
   "execution_count": 7,
   "metadata": {},
   "outputs": [
    {
     "name": "stdout",
     "output_type": "stream",
     "text": [
      "10086\n",
      "10010\n"
     ]
    }
   ],
   "source": [
    "b=re.finditer(r\"\\d+\",\"我的电话号是10086，他的电话号是10010\")\n",
    "for i in b:\n",
    "    print(i.group())"
   ]
  },
  {
   "attachments": {},
   "cell_type": "markdown",
   "metadata": {},
   "source": [
    "`search`是全文匹配，结果返回的是match对象，需要使用.group()获取。search的含义是仅仅匹配第一个出现的对象，即告诉你“全文范围内有没有”。"
   ]
  },
  {
   "cell_type": "code",
   "execution_count": 8,
   "metadata": {},
   "outputs": [
    {
     "name": "stdout",
     "output_type": "stream",
     "text": [
      "10086\n"
     ]
    }
   ],
   "source": [
    "s=re.search(r\"\\d+\",\"我的电话号是10086，他的电话号是10010\")\n",
    "print(s.group())"
   ]
  },
  {
   "attachments": {},
   "cell_type": "markdown",
   "metadata": {},
   "source": [
    "`match`是从头开始匹配，如果字符串不是完美贴合这个正则则返回Null."
   ]
  },
  {
   "cell_type": "code",
   "execution_count": 9,
   "metadata": {},
   "outputs": [
    {
     "ename": "AttributeError",
     "evalue": "'NoneType' object has no attribute 'group'",
     "output_type": "error",
     "traceback": [
      "\u001b[1;31m---------------------------------------------------------------------------\u001b[0m",
      "\u001b[1;31mAttributeError\u001b[0m                            Traceback (most recent call last)",
      "Cell \u001b[1;32mIn[9], line 2\u001b[0m\n\u001b[0;32m      1\u001b[0m s\u001b[39m=\u001b[39mre\u001b[39m.\u001b[39mmatch(\u001b[39mr\u001b[39m\u001b[39m\"\u001b[39m\u001b[39m\\\u001b[39m\u001b[39md+\u001b[39m\u001b[39m\"\u001b[39m,\u001b[39m\"\u001b[39m\u001b[39m我的电话号是10086，他的电话号是10010\u001b[39m\u001b[39m\"\u001b[39m)\n\u001b[1;32m----> 2\u001b[0m \u001b[39mprint\u001b[39m(s\u001b[39m.\u001b[39;49mgroup())\n",
      "\u001b[1;31mAttributeError\u001b[0m: 'NoneType' object has no attribute 'group'"
     ]
    }
   ],
   "source": [
    "s=re.match(r\"\\d+\",\"我的电话号是10086，他的电话号是10010\")\n",
    "print(s.group())"
   ]
  },
  {
   "attachments": {},
   "cell_type": "markdown",
   "metadata": {},
   "source": [
    "正则的预加载"
   ]
  },
  {
   "cell_type": "code",
   "execution_count": 14,
   "metadata": {},
   "outputs": [
    {
     "name": "stdout",
     "output_type": "stream",
     "text": [
      "10086\n",
      "10010\n"
     ]
    }
   ],
   "source": [
    "obj=re.compile(r\"\\d+\")\n",
    "ret=obj.finditer(\"我的电话号是10086，他的电话号是10010\")\n",
    "for it in ret:\n",
    "    print(it.group())"
   ]
  },
  {
   "cell_type": "code",
   "execution_count": 15,
   "metadata": {},
   "outputs": [
    {
     "name": "stdout",
     "output_type": "stream",
     "text": [
      "<div class='a'><span id='1'>小赵</span></div>\n",
      "<div class='b'><span id='2'>小钱</span></div>\n",
      "<div class='c'><span id='3'>小孙</span></div>\n",
      "<div class='d'><span id='4'>小李</span></div>\n",
      "<div class='e'><span id='5'>小周</span></div>\n",
      "<div class='f'><span id='6'>小武</span></div>\n",
      "<div class='g'><span id='7'>小郑</span></div>\n",
      "<div class='h'><span id='8'>小王</span></div>\n"
     ]
    }
   ],
   "source": [
    "s=\"\"\"\n",
    "    <div class='a'><span id='1'>小赵</span></div>\n",
    "    <div class='b'><span id='2'>小钱</span></div>\n",
    "    <div class='c'><span id='3'>小孙</span></div>\n",
    "    <div class='d'><span id='4'>小李</span></div>\n",
    "    <div class='e'><span id='5'>小周</span></div>\n",
    "    <div class='f'><span id='6'>小武</span></div>\n",
    "    <div class='g'><span id='7'>小郑</span></div>\n",
    "    <div class='h'><span id='8'>小王</span></div>\n",
    "\"\"\"\n",
    "obj=re.compile(r\"<div class='.*?'><span id='.*?'>.*?</span></div>\",re.S) #re.S:让\".\"能够匹配换行符\n",
    "result=obj.finditer(s)\n",
    "for it in result:\n",
    "    print(it.group())"
   ]
  },
  {
   "cell_type": "code",
   "execution_count": 20,
   "metadata": {},
   "outputs": [
    {
     "name": "stdout",
     "output_type": "stream",
     "text": [
      "1\n",
      "小赵\n",
      "2\n",
      "小钱\n",
      "3\n",
      "小孙\n",
      "4\n",
      "小李\n",
      "5\n",
      "小周\n",
      "6\n",
      "小武\n",
      "7\n",
      "小郑\n",
      "8\n",
      "小王\n"
     ]
    }
   ],
   "source": [
    "spobj = re.compile(r\"<div class='.*?'><span id='(?P<numbers>.*?)'>(?P<wahahahaha>.*?)</span></div>\",re.S) #(?P<分组的名字>)#可以单独从正则的匹配结果中进一步匹配确定的内容。\n",
    "result=spobj.finditer(s)\n",
    "for it in result:\n",
    "    print(it.group('numbers'))\n",
    "    print(it.group('wahahahaha'))"
   ]
  }
 ],
 "metadata": {
  "kernelspec": {
   "display_name": "myenv",
   "language": "python",
   "name": "python3"
  },
  "language_info": {
   "codemirror_mode": {
    "name": "ipython",
    "version": 3
   },
   "file_extension": ".py",
   "mimetype": "text/x-python",
   "name": "python",
   "nbconvert_exporter": "python",
   "pygments_lexer": "ipython3",
   "version": "3.9.16"
  },
  "orig_nbformat": 4
 },
 "nbformat": 4,
 "nbformat_minor": 2
}
