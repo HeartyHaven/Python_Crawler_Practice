{
 "cells": [
  {
   "attachments": {},
   "cell_type": "markdown",
   "metadata": {},
   "source": [
    "# xpath解析\n",
    "xpath是xml文档中搜索内容的一门语言\n",
    "\n",
    "html是xml的一个子集。\n",
    "\n",
    "想象网页源代码是一个树，根据包含关系分为父节点，子节点，同胞结点。所以标签的检索就像是文件夹的层级检索一样。如/div/span/...。\n",
    "\n",
    "安装：lxml模块：pip install lxml -i xxxxx"
   ]
  },
  {
   "cell_type": "code",
   "execution_count": 3,
   "metadata": {},
   "outputs": [
    {
     "name": "stdout",
     "output_type": "stream",
     "text": [
      "Collecting lxml\n",
      "  Downloading lxml-4.9.2-cp39-cp39-win_amd64.whl (3.9 MB)\n",
      "     ---------------------------------------- 3.9/3.9 MB 2.3 MB/s eta 0:00:00\n",
      "Installing collected packages: lxml\n",
      "Successfully installed lxml-4.9.2\n"
     ]
    }
   ],
   "source": [
    "! pip install lxml \n",
    "from lxml import etree"
   ]
  },
  {
   "cell_type": "code",
   "execution_count": 29,
   "metadata": {},
   "outputs": [
    {
     "name": "stdout",
     "output_type": "stream",
     "text": [
      "<Element html at 0x2b5f5833340>\n",
      "['网页', '资讯', '问答', '视频', '图片', '良医', '地图', '百科', '文库', '软件', '翻译']\n"
     ]
    }
   ],
   "source": [
    "html=\"\"\"\n",
    "<div id=\"tabs-wrap\" >\n",
    "    <ul id=\"g-hd-tabs\">\n",
    "        <li class=\"g-hd-cur\"><a data-home=\"http://www.so.com/?src=tab_www\" data-s=\"http://www.so.com/s?q=%q%&src=tab_www\" data-i=\"web_page\" href=\"https://www.so.com/s?q=%E5%93%94%E5%93%A9%E5%93%94%E5%93%A9&src=tab_www\">网页</a><span></span></li>\n",
    "                <li><a data-home=\"http://news.so.com/?src=tab_www\" data-s=\"http://news.so.com/ns?q=%q%&src=tab_www\" data-i=\"news\" href=\"http://news.so.com/ns?q=%E5%93%94%E5%93%A9%E5%93%94%E5%93%A9&src=tab_www\">资讯</a><span></span></li>\n",
    "        <li><a data-home=\"https://wenda.so.com/?src=tab_www\" data-s=\"https://wenda.so.com/search/?q=%q%&src=tab_www\" data-i=\"wenda\" href=\"https://wenda.so.com/search/?q=%E5%93%94%E5%93%A9%E5%93%94%E5%93%A9&src=tab_www\">问答</a><span></span></li>\n",
    "        <li><a data-home=\"http://tv.360kan.com/?src=tab_www\" data-s=\"http://tv.360kan.com/s?q=%q%&src=tab_www\" data-i=\"video\" href=\"https://www.so.com/link?m=bhOb0Uf3IwMsDYYTAaTHOUENG%2BkGarX44KW%2BXsHkDIcnTSOLh9pNAi1p9OAH%2FO3tZfLJmCsXaEAFjCH2YAC81BzDfWLUbrw6WWtVn8CcrXV5%2BiAPiLBXlWLRkWwnJdowZKw29tZqBmlv0mdbcBa8Qj7e0H0unKbtIK9xJlWTcd3s14VE37CojrrrHZGNtsZa4qYjb8%2FTnbccuVoGTaYXzu6MQ3aCvcvw4A4SixmkPWl973kuhUrkRbE9ehgTz0E3N\" data-mdurl=\"http://tv.360kan.com/s?q=%E5%93%94%E5%93%A9%E5%93%94%E5%93%A9&src=tab_www\">视频</a><span></span></li>\n",
    "        <li><a data-home=\"http://image.so.com/?src=tab_www\" data-s=\"http://image.so.com/i?q=%q%&src=tab_www\" data-i=\"image\" href=\"http://image.so.com/i?q=%E5%93%94%E5%93%A9%E5%93%94%E5%93%A9&src=tab_www\">图片</a><span></span></li>\n",
    "        <li><a data-home=\"http://ly.so.com/?src=tab_www\" data-s=\"http://ly.so.com/s?q=%q%&src=tab_www\" data-i=\"liangyi\" href=\"http://ly.so.com/s?q=%E5%93%94%E5%93%A9%E5%93%94%E5%93%A9&src=tab_www\">良医</a><span></span></li>\n",
    "        <li><a data-home=\"http://ditu.so.com/?src=tab_www\" data-s=\"http://ditu.so.com/?k=%q%&src=tab_www\" data-i=\"map\" href=\"http://ditu.so.com/?k=%E5%93%94%E5%93%A9%E5%93%94%E5%93%A9&src=tab_www\">地图</a><span></span></li>\n",
    "        <li><a data-home=\"http://baike.so.com/?src=tab_www\" data-s=\"http://baike.so.com/doc/search?word=%q%&src=tab_www\" data-i=\"baike\" href=\"http://baike.so.com/doc/search?word=%E5%93%94%E5%93%A9%E5%93%94%E5%93%A9&src=tab_www\">百科</a><span></span></li>\n",
    "        <li><a data-home=\"http://wenku.so.com/?src=tab_www\" data-s=\"http://wenku.so.com/s?q=%q%&src=tab_www\" data-i=\"wenku\" href=\"http://wenku.so.com/s?q=%E5%93%94%E5%93%A9%E5%93%94%E5%93%A9&src=tab_www\">文库</a><span></span></li>\n",
    "        <li><a data-home=\"http://soft.so.com/?src=tab_www\" data-s=\"http://soft.so.com/search?q=%q%&src=tab_www\" data-i=\"soft\" href=\"http://soft.so.com/search?q=%E5%93%94%E5%93%A9%E5%93%94%E5%93%A9&src=tab_www\">软件</a><span></span></li>\n",
    "        <li><a data-home=\"http://fanyi.so.com/?src=tab_www\" data-s=\"http://fanyi.so.com/?src=tab_www#%q%\" data-i=\"fanyi\" href=\"http://fanyi.so.com/?src=tab_www#%E5%93%94%E5%93%A9%E5%93%94%E5%93%A9\">翻译</a><span></span></li>\n",
    "        \n",
    "        <!-- <li class=\"citycard\"><a data-home=\"http://citycard.so.com/?src=tab_www\" data-s=\"http://citycard.so.com/?src=tab_www\" data-i=\"citycard\" href=\"http://citycard.so.com/?src=tab_www\">城市名片</a><span></span></li> -->\n",
    "            </ul>\n",
    "</div\n",
    "\"\"\"\n",
    "parser=etree.HTMLParser(encoding='utf-8')#html的解析器，作用是把一段文本解析成为html文本,\n",
    "#默认是xmlparser但是上面的那段文字有符号不规范的情况导致没法解析，所以只好换成htmlparser.\n",
    "\n",
    "# tree=etree.parse(html,parser=parser)\n",
    "tree=etree.XML(html,parser=parser)\n",
    "print(tree)\n",
    "\n",
    "result=tree.xpath(\"//div/ul/li/a/text()\") #表示层级关系，第一级是根节点，这里加两个//才能返回非空的结果，\n",
    "#/text()的作用是返回标签之间的纯文本，不包含其他标签;\n",
    "#//的作用是返回该层级之下的所有同名标签。比如说/div/div就是返回div下所有的后代div标签，包含孙子结点甚至更深处的div结点，\n",
    "# 而不仅仅是返回其子节点下的div。\n",
    "\n",
    "print(result)\n"
   ]
  },
  {
   "cell_type": "code",
   "execution_count": 40,
   "metadata": {},
   "outputs": [
    {
     "name": "stdout",
     "output_type": "stream",
     "text": [
      "result1: [<Element book at 0x2b5f583cb80>]\n",
      "result2: [<Element name at 0x2b5f5840bc0>]\n",
      "result3: ['野花遍地香']\n",
      "result4: []\n",
      "result5: ['小赵', '小钱', '小孙', '小李', '小周', '小武', '小郑']\n",
      "result6: ['小周', '小武', '小郑']\n",
      "result7: ['小赵', '小钱', '小孙', '小李', '小周', '小武', '小郑', ' 小王']\n"
     ]
    }
   ],
   "source": [
    "#感觉说了这么多还是不具体，这里套用视频中的xml文本。\n",
    "xml=\"\"\"\n",
    "<book>\n",
    "    <id>1</id>\n",
    "    <name>野花遍地香</name>\n",
    "    <price>1.12</price>\n",
    "    <author>\n",
    "        <nick id=\"10086\">小赵</nick>\n",
    "        <nick id=\"10087\">小钱</nick>\n",
    "        <nick id=\"10088\">小孙</nick>\n",
    "        <nick id=\"10089\">小李</nick>\n",
    "        <div>\n",
    "            <nick>小周</nick>\n",
    "        </div>\n",
    "        <div>\n",
    "            <nick>小武</nick>\n",
    "        </div>\n",
    "        <span>\n",
    "            <nick>小郑</nick>\n",
    "        </span>\n",
    "    </author>\n",
    "    <partner>\n",
    "        <nick id=\"10090\"> 小王</nick>\n",
    "    </partner>\n",
    "</book>\n",
    "\"\"\"\n",
    "tree1=etree.XML(xml)\n",
    "result1=tree1.xpath(\"/book\")\n",
    "print(\"result1:\",result1)\n",
    "result2=tree1.xpath(\"/book/name\")\n",
    "print(\"result2:\",result2)\n",
    "result3=tree1.xpath(\"/book/name/text()\") #text()拿文本\n",
    "print(\"result3:\",result3)\n",
    "result4=tree1.xpath(\"book/author//div/nick/text()\")\n",
    "print(\"result4:\",result4)\n",
    "result5=tree1.xpath(\"/book/author//nick/text()\")# //后代\n",
    "print(\"result5:\",result5)\n",
    "result6=tree1.xpath(\"/book/author/*/nick/text()\")# *通配符，表示任意的结点\n",
    "print(\"result6:\",result6)\n",
    "result7=tree1.xpath(\"/book//nick/text()\")\n",
    "print(\"result7:\",result7)"
   ]
  }
 ],
 "metadata": {
  "kernelspec": {
   "display_name": "myenv",
   "language": "python",
   "name": "python3"
  },
  "language_info": {
   "codemirror_mode": {
    "name": "ipython",
    "version": 3
   },
   "file_extension": ".py",
   "mimetype": "text/x-python",
   "name": "python",
   "nbconvert_exporter": "python",
   "pygments_lexer": "ipython3",
   "version": "3.9.16"
  },
  "orig_nbformat": 4
 },
 "nbformat": 4,
 "nbformat_minor": 2
}
