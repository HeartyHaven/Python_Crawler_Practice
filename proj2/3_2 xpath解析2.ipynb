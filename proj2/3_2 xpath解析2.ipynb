{
 "cells": [
  {
   "cell_type": "code",
   "execution_count": 2,
   "metadata": {},
   "outputs": [],
   "source": [
    "from lxml import etree"
   ]
  },
  {
   "attachments": {},
   "cell_type": "markdown",
   "metadata": {},
   "source": [
    "html代码在文件`test.html`中，为了方便比较，贴在这里：\n",
    "![html文件](./img/G547%5DWPQQMPPI92WZ_6X30J.png)"
   ]
  },
  {
   "cell_type": "code",
   "execution_count": 3,
   "metadata": {},
   "outputs": [
    {
     "name": "stdout",
     "output_type": "stream",
     "text": [
      "['百度']\n"
     ]
    }
   ],
   "source": [
    "tree=etree.parse(\"3_2 test.html\")\n",
    "# result=tree.xpath(\"/html\")    #测试\n",
    "# result=tree.xpath(\"/html/body/ul/li/a/text()\")\n",
    "result=tree.xpath(\"/html/body/ul/li[1]/a/text()\")   \n",
    "#多个标签可以通过下标选择，xpath的顺序是从1开始的，[]里面是索引\n",
    "\n",
    "print(result)"
   ]
  },
  {
   "cell_type": "code",
   "execution_count": 10,
   "metadata": {},
   "outputs": [
    {
     "name": "stdout",
     "output_type": "stream",
     "text": [
      "['飞机']\n"
     ]
    }
   ],
   "source": [
    "result2=tree.xpath(\"/html/body/ol/li/a[@href='feiji']/text()\")\n",
    "#[@xxx='xxx']针对标签属性的筛选\n",
    "print(result2)"
   ]
  },
  {
   "cell_type": "code",
   "execution_count": 13,
   "metadata": {},
   "outputs": [
    {
     "name": "stdout",
     "output_type": "stream",
     "text": [
      "['飞机']\n",
      "['feiji']\n",
      "['大炮']\n",
      "['dapao']\n",
      "['火车']\n",
      "['huoche']\n"
     ]
    }
   ],
   "source": [
    "ol_li_list=tree.xpath(\"/html/body/ol/li\")\n",
    "for li in ol_li_list:\n",
    "    #从每一个li中提取文字信息\n",
    "    a=li.xpath(\"./a/text()\")  #在li中继续寻找，是一个相对查找,\"./\"当前结点\n",
    "    print(a)\n",
    "    href=li.xpath(\"./a/@href\")  #想拿到属性值：用 @属性值 拿到。\n",
    "    print(href)"
   ]
  },
  {
   "cell_type": "code",
   "execution_count": 15,
   "metadata": {},
   "outputs": [
    {
     "name": "stdout",
     "output_type": "stream",
     "text": [
      "['http://www.baidu.com', 'http://www.google.com', 'http://www.sogou.com']\n"
     ]
    }
   ],
   "source": [
    "print(tree.xpath(\"/html/body/ul/li/a/@href\"))   #一次返回所有的链接。"
   ]
  },
  {
   "attachments": {},
   "cell_type": "markdown",
   "metadata": {},
   "source": [
    "除此之外，还有一个特别快的方法：在网页中用F12检查工具直接定位到自己所想要的那个内容，在右侧的源代码直接复制xpath到自己的程序即可。\n",
    "\n",
    "![示意图](img/102448.png)"
   ]
  },
  {
   "cell_type": "code",
   "execution_count": 16,
   "metadata": {},
   "outputs": [
    {
     "name": "stdout",
     "output_type": "stream",
     "text": [
      "['李嘉诚']\n"
     ]
    }
   ],
   "source": [
    "print(tree.xpath(\"/html/body/div[1]/text()\"))   #这个是复制xpath来的"
   ]
  }
 ],
 "metadata": {
  "kernelspec": {
   "display_name": "myenv",
   "language": "python",
   "name": "python3"
  },
  "language_info": {
   "codemirror_mode": {
    "name": "ipython",
    "version": 3
   },
   "file_extension": ".py",
   "mimetype": "text/x-python",
   "name": "python",
   "nbconvert_exporter": "python",
   "pygments_lexer": "ipython3",
   "version": "3.9.16"
  },
  "orig_nbformat": 4
 },
 "nbformat": 4,
 "nbformat_minor": 2
}
