{
 "cells": [
  {
   "attachments": {},
   "cell_type": "markdown",
   "metadata": {},
   "source": [
    "# xpath实战：爬取猪八戒网信息\n",
    "我这里为了追求刺激，换成了当当网，目的是获取与deeplearning相关的所有检索结果。\n",
    "\n",
    "这个检索结果页面的所有内容都是直接镶嵌在页面源代码中的，所以可以利用xpath进行解析。具体的操作步骤是：\n",
    "1. 获取页面源代码。\n",
    "2. 提取和解析数据。"
   ]
  },
  {
   "cell_type": "code",
   "execution_count": null,
   "metadata": {},
   "outputs": [],
   "source": [
    "#获取页面源代码\n",
    "import requests\n",
    "url=\"http://search.dangdang.com/?key=deeplearning&act=input\"\n",
    "resp=requests.get(url)\n",
    "print(resp.text)"
   ]
  },
  {
   "cell_type": "code",
   "execution_count": 3,
   "metadata": {},
   "outputs": [
    {
     "name": "stdout",
     "output_type": "stream",
     "text": [
      "over!\n"
     ]
    }
   ],
   "source": [
    "#提取和解析数据并且写入一个json文件\n",
    "from lxml import etree\n",
    "import json\n",
    "htmls=etree.HTML(resp.text)\n",
    "json_str=\"\"\n",
    "fullblock=htmls.xpath('//ul[@id=\"component_59\"]')\n",
    "blocks=fullblock[0].xpath('./li')\n",
    "for block in blocks:\n",
    "    price=block.xpath('./p[@class=\"price\"]/span[1]/text()')\n",
    "    # print(price)\n",
    "    name=block.xpath('./p[@class=\"name\"]/a/@title')\n",
    "    # print(name)\n",
    "    publisher=block.xpath('./p[@class=\"search_book_author\"]/span[3]/a/text()')\n",
    "    # print(publisher)\n",
    "    dict={\n",
    "        \"name\":name[0],\n",
    "        \"publisher\":publisher[0],\n",
    "        \"price\":price[0]\n",
    "    }\n",
    "    # print(dict)\n",
    "    json_str+=json.dumps(dict,ensure_ascii=False)\n",
    "    json_str+=\"\\n\"\n",
    "    # print(json_str) \n",
    "    \n",
    "with open('purchase_data.json','w') as json_file:\n",
    "    try:\n",
    "        json_file.write(json_str)\n",
    "    except UnicodeEncodeError:\n",
    "        pass\n",
    "    print(\"over!\")\n",
    "    json_file.close\n"
   ]
  }
 ],
 "metadata": {
  "kernelspec": {
   "display_name": "myenv",
   "language": "python",
   "name": "python3"
  },
  "language_info": {
   "codemirror_mode": {
    "name": "ipython",
    "version": 3
   },
   "file_extension": ".py",
   "mimetype": "text/x-python",
   "name": "python",
   "nbconvert_exporter": "python",
   "pygments_lexer": "ipython3",
   "version": "3.9.16"
  },
  "orig_nbformat": 4
 },
 "nbformat": 4,
 "nbformat_minor": 2
}
