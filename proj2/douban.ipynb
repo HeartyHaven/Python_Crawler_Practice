{
 "cells": [
  {
   "attachments": {},
   "cell_type": "markdown",
   "metadata": {},
   "source": [
    "# 写一个获取豆瓣top250电影的爬虫"
   ]
  },
  {
   "attachments": {},
   "cell_type": "markdown",
   "metadata": {},
   "source": [
    "![网站主界面](img/1.png)"
   ]
  },
  {
   "attachments": {},
   "cell_type": "markdown",
   "metadata": {},
   "source": [
    "右键拿到页面源代码，用requests获取，然后用re模块进行解析。"
   ]
  },
  {
   "cell_type": "code",
   "execution_count": 10,
   "metadata": {},
   "outputs": [],
   "source": [
    "import re\n",
    "import requests"
   ]
  },
  {
   "cell_type": "code",
   "execution_count": 16,
   "metadata": {},
   "outputs": [],
   "source": [
    "url=\"https://movie.douban.com/top250\"\n",
    "headers={\n",
    "    \"user-agent\":\"Mozilla/5.0 (Windows NT 10.0; WOW64) AppleWebKit/537.36 (KHTML, like Gecko)\"\n",
    "}#直接获取什么也得不到可能是反扒机制导致的，所以需要伪造一个请求头\n",
    "resp=requests.get(url,headers=headers)\n",
    "# print(resp.text)\n",
    "page_content=resp.text"
   ]
  },
  {
   "cell_type": "code",
   "execution_count": 31,
   "metadata": {},
   "outputs": [
    {
     "name": "stdout",
     "output_type": "stream",
     "text": [
      "肖申克的救赎\n",
      "1994\n",
      "9.7\n",
      "2874453\n",
      "霸王别姬\n",
      "1993\n",
      "9.6\n",
      "2123617\n",
      "阿甘正传\n",
      "1994\n",
      "9.5\n",
      "2145216\n",
      "泰坦尼克号\n",
      "1997\n",
      "9.5\n",
      "2171370\n",
      "这个杀手不太冷\n",
      "1994\n",
      "9.4\n",
      "2281025\n",
      "千与千寻\n",
      "2001\n",
      "9.4\n",
      "2226229\n",
      "美丽人生\n",
      "1997\n",
      "9.6\n",
      "1317537\n",
      "辛德勒的名单\n",
      "1993\n",
      "9.6\n",
      "1097844\n",
      "星际穿越\n",
      "2014\n",
      "9.4\n",
      "1816101\n",
      "盗梦空间\n",
      "2010\n",
      "9.4\n",
      "2045141\n",
      "楚门的世界\n",
      "1998\n",
      "9.4\n",
      "1689436\n",
      "忠犬八公的故事\n",
      "2009\n",
      "9.4\n",
      "1390904\n",
      "海上钢琴师\n",
      "1998\n",
      "9.3\n",
      "1666535\n",
      "三傻大闹宝莱坞\n",
      "2009\n",
      "9.2\n",
      "1846342\n",
      "放牛班的春天\n",
      "2004\n",
      "9.3\n",
      "1301445\n",
      "机器人总动员\n",
      "2008\n",
      "9.3\n",
      "1306794\n",
      "无间道\n",
      "2002\n",
      "9.3\n",
      "1351844\n",
      "疯狂动物城\n",
      "2016\n",
      "9.2\n",
      "1915101\n",
      "控方证人\n",
      "1957\n",
      "9.6\n",
      "548086\n",
      "大话西游之大圣娶亲\n",
      "1995\n",
      "9.2\n",
      "1522752\n",
      "熔炉\n",
      "2011\n",
      "9.4\n",
      "925100\n",
      "教父\n",
      "1972\n",
      "9.3\n",
      "959639\n",
      "触不可及\n",
      "2011\n",
      "9.3\n",
      "1103410\n",
      "当幸福来敲门\n",
      "2006\n",
      "9.2\n",
      "1509589\n",
      "怦然心动\n",
      "2010\n",
      "9.1\n",
      "1818926\n"
     ]
    }
   ],
   "source": [
    "#解析数据\n",
    "obj=re.compile(r'<li>.*?<span class=\"title\">(?P<name>.*?)</span>.*?<p.*?<br>(?P<year>.*?)&nbsp.*?<span class=\"rating_num\" property=\"v:average\">(?P<ratings>.*?)</span>.*?<span>(?P<comments>.*?)人评价</span>',re.S)\n",
    "res=obj.finditer(page_content)\n",
    "for it in res:\n",
    "    print(it.group(\"name\"))\n",
    "    print(it.group(\"year\").strip())#这个strip在观察网页的时候就能看出来，\n",
    "    #由于html代码的格式化，导致year这里前面空了一大段空格。\n",
    "    print(it.group(\"ratings\"))\n",
    "    print(it.group(\"comments\"))"
   ]
  },
  {
   "attachments": {},
   "cell_type": "markdown",
   "metadata": {},
   "source": [
    "结果存入一个csv.用到一个叫groupdict方法能够把你正则中写的所有的分组内容在迭代器中每一次返回的结果都封装成一个字典。最后只需要写入值即可。"
   ]
  },
  {
   "cell_type": "code",
   "execution_count": 42,
   "metadata": {},
   "outputs": [
    {
     "name": "stdout",
     "output_type": "stream",
     "text": [
      "done!\n"
     ]
    }
   ],
   "source": [
    "import csv\n",
    "res=obj.finditer(page_content)\n",
    "f=open(\"data.csv\",mode=\"w\")\n",
    "csvwriter=csv.writer(f)\n",
    "\n",
    "for it in res:\n",
    "    # print(it)\n",
    "    dic=it.groupdict()\n",
    "    # print(dic.values())\n",
    "    dic[\"year\"]=dic[\"year\"].strip()\n",
    "    csvwriter.writerow(dic.values())\n",
    "f.close\n",
    "print(\"done!\")"
   ]
  },
  {
   "attachments": {},
   "cell_type": "markdown",
   "metadata": {},
   "source": [
    "最后结合网页翻页，得到一个完整的最终代码。"
   ]
  },
  {
   "cell_type": "code",
   "execution_count": 4,
   "metadata": {},
   "outputs": [
    {
     "name": "stdout",
     "output_type": "stream",
     "text": [
      "https://movie.douban.com/top250?start=0\n",
      "https://movie.douban.com/top250?start=25\n",
      "https://movie.douban.com/top250?start=50\n",
      "https://movie.douban.com/top250?start=75\n",
      "https://movie.douban.com/top250?start=100\n",
      "https://movie.douban.com/top250?start=125\n",
      "https://movie.douban.com/top250?start=150\n",
      "https://movie.douban.com/top250?start=175\n",
      "https://movie.douban.com/top250?start=200\n",
      "https://movie.douban.com/top250?start=225\n",
      "done!\n"
     ]
    }
   ],
   "source": [
    "import re\n",
    "import requests\n",
    "import csv\n",
    "\n",
    "\n",
    "headers={\n",
    "    \"user-agent\":\"Mozilla/5.0 (Windows NT 10.0; WOW64) AppleWebKit/537.36 (KHTML, like Gecko) Chrome/78.0.3904.108 Safari/537.36\"\n",
    "}#直接获取什么也得不到可能是反扒机制导致的，所以需要伪造一个请求头\n",
    "#建议自己在请求信息中看一看自己的请求头\n",
    "f=open(\"data.csv\",mode=\"w\",encoding=\"utf-8\")\n",
    "csvwriter=csv.writer(f)\n",
    "for p in range (0,250,25):\n",
    "    url=f\"https://movie.douban.com/top250?start={p}\"\n",
    "    print(url)\n",
    "    resp=requests.get(url,headers=headers)\n",
    "    # print(resp.text)\n",
    "    page_content=resp.text\n",
    "    #解析数据\n",
    "    obj=re.compile(r'<li>.*?<span class=\"title\">(?P<name>.*?)</span>.*?<p.*?<br>(?P<year>.*?)&nbsp.*?<span class=\"rating_num\" property=\"v:average\">(?P<ratings>.*?)</span>.*?<span>(?P<comments>.*?)人评价</span>',re.S)\n",
    "    res=obj.finditer(page_content)\n",
    "    for it in res:\n",
    "        # print(it)\n",
    "        dic=it.groupdict()\n",
    "        # print(dic.values())\n",
    "        dic[\"year\"]=dic[\"year\"].strip()\n",
    "        csvwriter.writerow(dic.values())\n",
    "f.close\n",
    "print(\"done!\")"
   ]
  }
 ],
 "metadata": {
  "kernelspec": {
   "display_name": "myenv",
   "language": "python",
   "name": "python3"
  },
  "language_info": {
   "codemirror_mode": {
    "name": "ipython",
    "version": 3
   },
   "file_extension": ".py",
   "mimetype": "text/x-python",
   "name": "python",
   "nbconvert_exporter": "python",
   "pygments_lexer": "ipython3",
   "version": "3.9.16"
  },
  "orig_nbformat": 4
 },
 "nbformat": 4,
 "nbformat_minor": 2
}
